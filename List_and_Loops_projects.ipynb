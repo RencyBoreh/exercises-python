{
  "nbformat": 4,
  "nbformat_minor": 0,
  "metadata": {
    "colab": {
      "provenance": []
    },
    "kernelspec": {
      "name": "python3",
      "display_name": "Python 3"
    },
    "language_info": {
      "name": "python"
    }
  },
  "cells": [
    {
      "cell_type": "code",
      "execution_count": 1,
      "metadata": {
        "colab": {
          "base_uri": "https://localhost:8080/"
        },
        "id": "GiFh0Rc1xqNp",
        "outputId": "08b2e96f-5a5e-4096-b982-6e3ab6090c3a"
      },
      "outputs": [
        {
          "output_type": "stream",
          "name": "stdout",
          "text": [
            "Orange\n",
            "mango\n",
            "banana\n",
            "grape\n",
            "apple\n"
          ]
        }
      ],
      "source": [
        "#Create a list of your favorite fruits. Use a for loop to print each fruit from the list.\n",
        "fruits=[\"Orange\",\"mango\",\"banana\",\"grape\",\"apple\"]\n",
        "for fruit in fruits:\n",
        "  print(fruit)"
      ]
    },
    {
      "cell_type": "code",
      "source": [
        "#Write a program that prints all even numbers from 1 to 20.\n",
        "for x in range(1,21):\n",
        "  if x%2==0:\n",
        "    print(x)"
      ],
      "metadata": {
        "colab": {
          "base_uri": "https://localhost:8080/"
        },
        "id": "6xzS78SEyEYu",
        "outputId": "087d959e-4bc6-404a-e5fb-baa7cc223c8f"
      },
      "execution_count": 2,
      "outputs": [
        {
          "output_type": "stream",
          "name": "stdout",
          "text": [
            "2\n",
            "4\n",
            "6\n",
            "8\n",
            "10\n",
            "12\n",
            "14\n",
            "16\n",
            "18\n",
            "20\n"
          ]
        }
      ]
    },
    {
      "cell_type": "code",
      "source": [],
      "metadata": {
        "id": "hCoMHRO6yyAo"
      },
      "execution_count": null,
      "outputs": []
    }
  ]
}