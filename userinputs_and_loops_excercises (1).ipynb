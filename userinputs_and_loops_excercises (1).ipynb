{
  "nbformat": 4,
  "nbformat_minor": 0,
  "metadata": {
    "colab": {
      "provenance": []
    },
    "kernelspec": {
      "name": "python3",
      "display_name": "Python 3"
    },
    "language_info": {
      "name": "python"
    }
  },
  "cells": [
    {
      "cell_type": "code",
      "execution_count": null,
      "metadata": {
        "colab": {
          "base_uri": "https://localhost:8080/"
        },
        "id": "39gre9xc8N-S",
        "outputId": "8688d38b-1b7a-4b42-db63-82e0b3ddd75e"
      },
      "outputs": [
        {
          "output_type": "stream",
          "name": "stdout",
          "text": [
            "I have Guessed a number between 1 and 100,Can you guess what is the number??\n"
          ]
        }
      ],
      "source": [
        "#Guess the Number: Create a number guessing game.\n",
        "#The program should randomly choose a number between 1 and 100, and the user has to guess it.\n",
        "#Give hints if the guess is too high or too low.\n",
        "import random\n",
        "def guessing_game():\n",
        "  guessed_number=random.randint(1,100)\n",
        "  print(\"I have Guessed a number between 1 and 100,Can you guess what is the number??\")\n",
        "  while True:\n",
        "    try:\n",
        "      user_guess=int(input(\"Enter The Guess:\"))\n",
        "      if user_guess<guessed_number:\n",
        "        print(\"Too Low,Try Again\")\n",
        "      elif user_guess>guessed_number:\n",
        "        print(\"Too High,Try Again!\")\n",
        "      else:\n",
        "        print(\"Congraculations You Got it Right!\")\n",
        "        break\n",
        "    except ValueError:\n",
        "      print(\"Please Enter a Valid Interger!\")\n",
        "guessing_game()"
      ]
    },
    {
      "cell_type": "code",
      "source": [
        "def sum_calculator():\n",
        "    total_sum = 0\n",
        "    while True:\n",
        "        user_input = input(\"Enter a number (or type 'stop' to finish): \")\n",
        "        if user_input.lower() == 'stop':\n",
        "            break\n",
        "        try:\n",
        "            number = float(user_input)\n",
        "            total_sum += number\n",
        "        except ValueError:\n",
        "            print(\"Please enter a valid number or 'stop' to finish.\")\n",
        "    print(f\"The total sum of the entered numbers is: {total_sum}\")\n",
        "\n",
        "sum_calculator()\n"
      ],
      "metadata": {
        "colab": {
          "base_uri": "https://localhost:8080/"
        },
        "id": "aBCIIOl5ATC4",
        "outputId": "ef5055c0-1785-4308-bccc-f18d689fa599"
      },
      "execution_count": 6,
      "outputs": [
        {
          "output_type": "stream",
          "name": "stdout",
          "text": [
            "Enter a number (or type 'stop' to finish): 1\n",
            "Enter a number (or type 'stop' to finish): 2\n",
            "Enter a number (or type 'stop' to finish): \n",
            "Please enter a valid number or 'stop' to finish.\n",
            "Enter a number (or type 'stop' to finish): \n",
            "Enter a number (or type 'stop' to finish): \n",
            "Please enter a valid number or 'stop' to finish.\n",
            "Please enter a valid number or 'stop' to finish.\n",
            "Enter a number (or type 'stop' to finish): 8\n",
            "Enter a number (or type 'stop' to finish): stop\n",
            "The total sum of the entered numbers is: 11.0\n"
          ]
        }
      ]
    },
    {
      "cell_type": "code",
      "source": [
        "34\n",
        "567\n"
      ],
      "metadata": {
        "id": "UgA0yrwDCF-2"
      },
      "execution_count": null,
      "outputs": []
    }
  ]
}