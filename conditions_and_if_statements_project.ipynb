{
  "nbformat": 4,
  "nbformat_minor": 0,
  "metadata": {
    "colab": {
      "provenance": []
    },
    "kernelspec": {
      "name": "python3",
      "display_name": "Python 3"
    },
    "language_info": {
      "name": "python"
    }
  },
  "cells": [
    {
      "cell_type": "code",
      "execution_count": 2,
      "metadata": {
        "colab": {
          "base_uri": "https://localhost:8080/"
        },
        "id": "CpMmBsX0zMlV",
        "outputId": "dd1b8250-b022-48a7-f290-fc767910f6e9"
      },
      "outputs": [
        {
          "output_type": "stream",
          "name": "stdout",
          "text": [
            "Enter Your Age:10\n",
            "You are Not Eligible to Vote!\n"
          ]
        }
      ],
      "source": [
        "#Age Check: Ask the user for their age. If they are 18 or older, print a message saying they are eligible to vote. If they are younger, print a message saying they are not eligible\n",
        "age=int(input(\"Enter Your Age:\"))\n",
        "if age >=18:\n",
        "  print(\"You are Eligible to Vote\")\n",
        "elif age<18:\n",
        "  print(\"You are Not Eligible to Vote!\")\n",
        "else:\n",
        "  print(\"Enter a valid age\")"
      ]
    },
    {
      "cell_type": "code",
      "source": [
        "#correction\n",
        "age=int(input(\"Enter Your Age:\"))\n",
        "if age >=18:\n",
        "  print(\"You are Eligible to Vote\")\n",
        "else:\n",
        "  print(\"You are Not Eligible to Vote!\")\n",
        ""
      ],
      "metadata": {
        "colab": {
          "base_uri": "https://localhost:8080/"
        },
        "id": "fCsEs5lizx83",
        "outputId": "fb87ea8e-1633-403b-d67d-cc9f185fcd4c"
      },
      "execution_count": 3,
      "outputs": [
        {
          "output_type": "stream",
          "name": "stdout",
          "text": [
            "Enter Your Age:12\n",
            "You are Not Eligible to Vote!\n"
          ]
        }
      ]
    },
    {
      "cell_type": "code",
      "source": [
        "#Grade Evaluation: Write a program that takes a numeric grade and prints whether the grade is an A, B, C, D, or F.\n",
        "grade=int(input(\"Enter Numeric Grade:\"))\n",
        "if grade>=70:\n",
        "  print(\"That's an A\")\n",
        "elif grade>=60:\n",
        "  print(\"That's a B\")\n",
        "elif grade>=50:\n",
        "  print(\"That's a C\")\n",
        "elif grade>=40:\n",
        "  print(\"That's a D\")\n",
        "else:\n",
        "  print(\"That's a F\")"
      ],
      "metadata": {
        "colab": {
          "base_uri": "https://localhost:8080/"
        },
        "id": "WIwTKhZJ0M64",
        "outputId": "c2f0d186-9266-4a1b-f29e-ea0ece276852"
      },
      "execution_count": 5,
      "outputs": [
        {
          "output_type": "stream",
          "name": "stdout",
          "text": [
            "Enter Numeric Grade:85\n",
            "That's an A\n"
          ]
        }
      ]
    },
    {
      "cell_type": "code",
      "source": [],
      "metadata": {
        "id": "QvTZyXRc1SHV"
      },
      "execution_count": null,
      "outputs": []
    }
  ]
}