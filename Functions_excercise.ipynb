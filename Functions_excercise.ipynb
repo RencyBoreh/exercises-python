{
  "nbformat": 4,
  "nbformat_minor": 0,
  "metadata": {
    "colab": {
      "provenance": []
    },
    "kernelspec": {
      "name": "python3",
      "display_name": "Python 3"
    },
    "language_info": {
      "name": "python"
    }
  },
  "cells": [
    {
      "cell_type": "code",
      "execution_count": 1,
      "metadata": {
        "colab": {
          "base_uri": "https://localhost:8080/"
        },
        "id": "15xf45Y91vb6",
        "outputId": "314f1eb6-4343-4b94-eefa-95b00d8aaa6d"
      },
      "outputs": [
        {
          "output_type": "stream",
          "name": "stdout",
          "text": [
            "Hello Goodmorning Rency\n"
          ]
        }
      ],
      "source": [
        "#: Define a function that takes a name as an argument and prints a greeting message.\n",
        "def greetings(name):\n",
        "  print(f\"Hello Goodmorning {name}\")\n",
        "greetings(\"Rency\")"
      ]
    },
    {
      "cell_type": "code",
      "source": [
        "#Write a function that converts a temperature from Celsius to Fahrenheit and vice versa.\n",
        "choice=input(\"Enter 1(Celsius to Fahrenheit) or 2(Fahrenheit to Celcius )\")\n",
        "def temp_convertion():\n",
        "  if choice==\"1\":\n",
        "    temp=float(input(\"Enter the temp in C:\"))\n",
        "    result=9/5*(temp)+32\n",
        "    return f\"The temp converted from {temp}C to F is:{result:.2f}\"\n",
        "  elif choice==\"2\":\n",
        "    temp=float(input(\"Enter the Temp in F:\"))\n",
        "    result=5/9*(temp-32)\n",
        "    return f\"The temp converted from {temp}F to C is :{result:.2f}\"\n",
        "  else:\n",
        "    print(\"Enter a Valid Choice!\")\n",
        "temp_convertion()\n",
        "\n",
        "\n",
        "\n",
        "\n",
        "\n",
        "# Far_to_C=int(input(\"Enter temp in Fahrenheit(F):\"))\n",
        "# C_to_Far=int(input(\"Enter temp in Celcius(C):\"))\n",
        "# def temp_F_to_C():\n",
        "#   temp=5/9(Far_to_C-32)\n",
        "#   print(f\"Temp converted from {Far_to_C}F to Celcius is :{temp}\")\n",
        "# def temp_C_to_Far():\n",
        "#   temp=9/5(C_to_Far)+32\n",
        "#   print(f\"Temp Converted from {C_to_Far}C to Fahreneit is :{temp}\")\n",
        "# temp_C_to_Far()\n",
        "# temp_F_to_C()\n",
        "\n",
        ""
      ],
      "metadata": {
        "colab": {
          "base_uri": "https://localhost:8080/",
          "height": 70
        },
        "id": "oujU8kwp2HMn",
        "outputId": "34455a95-f026-4f9a-8ef1-291e3b2477e4"
      },
      "execution_count": 7,
      "outputs": [
        {
          "name": "stdout",
          "output_type": "stream",
          "text": [
            "Enter 1(Celsius to Fahrenheit) or 2(Fahrenheit to Celcius )1\n",
            "Enter the temp in C:23\n"
          ]
        },
        {
          "output_type": "execute_result",
          "data": {
            "text/plain": [
              "'The temp converted from 23.0C to F is:73.4'"
            ],
            "application/vnd.google.colaboratory.intrinsic+json": {
              "type": "string"
            }
          },
          "metadata": {},
          "execution_count": 7
        }
      ]
    },
    {
      "cell_type": "code",
      "source": [],
      "metadata": {
        "id": "YQi2ybys4kJF"
      },
      "execution_count": null,
      "outputs": []
    }
  ]
}